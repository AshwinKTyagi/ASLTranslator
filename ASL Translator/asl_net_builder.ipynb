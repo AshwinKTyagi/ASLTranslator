{
 "cells": [
  {
   "cell_type": "markdown",
   "metadata": {
    "id": "F9aPxMR8_ZTC"
   },
   "source": [
    "# Neural Net Generator"
   ]
  },
  {
   "cell_type": "code",
   "execution_count": 1,
   "metadata": {
    "executionInfo": {
     "elapsed": 5313,
     "status": "ok",
     "timestamp": 1662939811392,
     "user": {
      "displayName": "Ashwin Tyagi",
      "userId": "01848559523199568635"
     },
     "user_tz": 420
    },
    "id": "qI9bi4ktEhon"
   },
   "outputs": [],
   "source": [
    "import numpy as np \n",
    "import pandas as pd # data processing\n",
    "import os, sys\n",
    "import time\n",
    "import matplotlib.pyplot as plt\n",
    "\n",
    "import tensorflow as tf\n",
    "import torch\n",
    "import torch.nn as nn\n",
    "import torch.optim as optim\n",
    "from torch.nn import functional as F\n",
    "import torch.utils.data as data\n",
    "\n",
    "import torchvision\n",
    "import torchvision.transforms as transforms\n",
    "import torchvision.models as models\n",
    "\n",
    "from asl_dataset import SignLanguageDataset\n",
    "from asl_net import Net"
   ]
  },
  {
   "cell_type": "markdown",
   "metadata": {
    "id": "tUgYHWi5Rg4W"
   },
   "source": [
    "#### Presetup before generating and training NN"
   ]
  },
  {
   "cell_type": "code",
   "execution_count": 2,
   "metadata": {
    "colab": {
     "base_uri": "https://localhost:8080/"
    },
    "executionInfo": {
     "elapsed": 13,
     "status": "ok",
     "timestamp": 1662939829071,
     "user": {
      "displayName": "Ashwin Tyagi",
      "userId": "01848559523199568635"
     },
     "user_tz": 420
    },
    "id": "ISg44OxXRhUK",
    "outputId": "5c4bc3fb-d367-438b-8dc1-8bb95f181da6"
   },
   "outputs": [
    {
     "name": "stdout",
     "output_type": "stream",
     "text": [
      "mps\n"
     ]
    }
   ],
   "source": [
    "#set device so that the model and data will run on the correct graphics device\n",
    "dev = torch.device(\"mps\") if torch.backends.mps.is_available() else torch.device(\"cpu\")\n",
    "print(dev)"
   ]
  },
  {
   "cell_type": "code",
   "execution_count": 3,
   "metadata": {
    "colab": {
     "base_uri": "https://localhost:8080/"
    },
    "executionInfo": {
     "elapsed": 4335,
     "status": "ok",
     "timestamp": 1662939833399,
     "user": {
      "displayName": "Ashwin Tyagi",
      "userId": "01848559523199568635"
     },
     "user_tz": 420
    },
    "id": "gVmCUni9Fe8V",
    "outputId": "c1b70f54-3576-42a8-b17c-95f4c3515daa"
   },
   "outputs": [
    {
     "name": "stdout",
     "output_type": "stream",
     "text": [
      "Net(\n",
      "  (layer1): Sequential(\n",
      "    (0): Conv2d(1, 8, kernel_size=(3, 3), stride=(1, 1))\n",
      "    (1): BatchNorm2d(8, eps=1e-05, momentum=0.1, affine=True, track_running_stats=True)\n",
      "    (2): AvgPool2d(kernel_size=2, stride=2, padding=0)\n",
      "    (3): ReLU()\n",
      "  )\n",
      "  (layer2): Sequential(\n",
      "    (0): Conv2d(8, 16, kernel_size=(3, 3), stride=(1, 1))\n",
      "    (1): BatchNorm2d(16, eps=1e-05, momentum=0.1, affine=True, track_running_stats=True)\n",
      "    (2): AvgPool2d(kernel_size=2, stride=2, padding=0)\n",
      "    (3): ReLU()\n",
      "  )\n",
      "  (fc1): Linear(in_features=400, out_features=100, bias=True)\n",
      "  (fc2): Linear(in_features=100, out_features=64, bias=True)\n",
      "  (leak): LeakyReLU(negative_slope=0.01)\n",
      "  (drop): Dropout(p=0.3, inplace=False)\n",
      "  (fc3): Linear(in_features=64, out_features=25, bias=True)\n",
      ")\n"
     ]
    }
   ],
   "source": [
    "net = Net()\n",
    "#switch the nn to run on gpu if available\n",
    "net = net.to(dev)\n",
    "print(net)"
   ]
  },
  {
   "cell_type": "markdown",
   "metadata": {
    "id": "REF9riJFQeTc"
   },
   "source": [
    "#### Define the Loss Function and Optimizer"
   ]
  },
  {
   "cell_type": "code",
   "execution_count": 4,
   "metadata": {
    "executionInfo": {
     "elapsed": 25,
     "status": "ok",
     "timestamp": 1662939833400,
     "user": {
      "displayName": "Ashwin Tyagi",
      "userId": "01848559523199568635"
     },
     "user_tz": 420
    },
    "id": "ariGAOYLQaxe"
   },
   "outputs": [],
   "source": [
    "crit = nn.CrossEntropyLoss()\n",
    "#feel free to play around with the lr(learning rate) and momentum\n",
    "optimizer = optim.Adam(net.parameters(), lr=0.001)"
   ]
  },
  {
   "cell_type": "markdown",
   "metadata": {
    "id": "YHKmAp5wTW3G"
   },
   "source": [
    "#### Set up Training Data\n",
    "Init and transform data before running it through nn"
   ]
  },
  {
   "cell_type": "code",
   "execution_count": 5,
   "metadata": {
    "colab": {
     "base_uri": "https://localhost:8080/"
    },
    "executionInfo": {
     "elapsed": 537,
     "status": "ok",
     "timestamp": 1662939833915,
     "user": {
      "displayName": "Ashwin Tyagi",
      "userId": "01848559523199568635"
     },
     "user_tz": 420
    },
    "id": "1Eq11XX7TWX0",
    "outputId": "21b2def4-8002-4d5e-f81a-679b21160468"
   },
   "outputs": [
    {
     "name": "stdout",
     "output_type": "stream",
     "text": [
      "../kaggle/input/.DS_Store\n",
      "../kaggle/input/american_sign_language.PNG\n",
      "../kaggle/input/sign_mnist_test.csv\n",
      "../kaggle/input/sign_mnist_train.csv\n",
      "../kaggle/input/amer_sign3.png\n",
      "../kaggle/input/amer_sign2.png\n",
      "../kaggle/input/sign_mnist_train/sign_mnist_train.csv\n",
      "../kaggle/input/sign_mnist_test/sign_mnist_test.csv\n"
     ]
    }
   ],
   "source": [
    "for dirname, _, filenames in os.walk('../kaggle/input/'):\n",
    "    for filename in filenames:\n",
    "        print(os.path.join(dirname, filename))"
   ]
  },
  {
   "cell_type": "code",
   "execution_count": 6,
   "metadata": {
    "executionInfo": {
     "elapsed": 4621,
     "status": "ok",
     "timestamp": 1662939838530,
     "user": {
      "displayName": "Ashwin Tyagi",
      "userId": "01848559523199568635"
     },
     "user_tz": 420
    },
    "id": "sG_UvNSpJSFU"
   },
   "outputs": [],
   "source": [
    "train = pd.read_csv('../kaggle/input/sign_mnist_train.csv')\n",
    "test = pd.read_csv('../kaggle/input/sign_mnist_test.csv')\n",
    "#Put in J as a _ to maintain 1to1 matching in nn\n",
    "labels = ['A', 'B', 'C', 'D', 'E', 'F', 'G', 'H', 'I', '_', 'K', 'L', 'M', \n",
    "          'N', 'O', 'P', 'Q', 'R', 'S', 'T', 'U', 'V', 'W', 'X', 'Y']"
   ]
  },
  {
   "cell_type": "markdown",
   "metadata": {
    "id": "NW7m8QfaLlKz"
   },
   "source": [
    "Create Class for Dataset to init and transform datasets\n",
    "I'm setting up the data similar to how Georgy Popov did in his nn on kaggle\n",
    "https://www.kaggle.com/code/wacholder000/simple-convolution-nn-in-pytorch-test-acc-95"
   ]
  },
  {
   "cell_type": "code",
   "execution_count": 7,
   "metadata": {
    "executionInfo": {
     "elapsed": 32,
     "status": "ok",
     "timestamp": 1662939838532,
     "user": {
      "displayName": "Ashwin Tyagi",
      "userId": "01848559523199568635"
     },
     "user_tz": 420
    },
    "id": "LoDL8XmHJqsH"
   },
   "outputs": [],
   "source": [
    "#method for showing images using mathplt\n",
    "def show_img(img, label):\n",
    "    img = img.squeeze()\n",
    "    img = img*40. + 159.\n",
    "    imgnp = img.detach().numpy()\n",
    "    plt.imshow(img, cmap='gray',interpolation='bicubic')\n",
    "    print(label)"
   ]
  },
  {
   "cell_type": "code",
   "execution_count": 8,
   "metadata": {
    "executionInfo": {
     "elapsed": 133,
     "status": "ok",
     "timestamp": 1662939992647,
     "user": {
      "displayName": "Ashwin Tyagi",
      "userId": "01848559523199568635"
     },
     "user_tz": 420
    },
    "id": "kGL2Z1kHJq1N"
   },
   "outputs": [],
   "source": [
    "train_transform = transforms.Compose([\n",
    "    #randomly flip/rotate images to better train nn\n",
    "    transforms.RandomHorizontalFlip(p=0.5),\n",
    "    transforms.RandomApply([transforms.RandomRotation(degrees=(-45,45))],\n",
    "                           p = 0.2)\n",
    "])"
   ]
  },
  {
   "cell_type": "code",
   "execution_count": 9,
   "metadata": {
    "executionInfo": {
     "elapsed": 163,
     "status": "ok",
     "timestamp": 1662939993860,
     "user": {
      "displayName": "Ashwin Tyagi",
      "userId": "01848559523199568635"
     },
     "user_tz": 420
    },
    "id": "Mt1qrrTULYEF"
   },
   "outputs": [],
   "source": [
    "train_dataset = SignLanguageDataset(train, transform=train_transform)\n",
    "test_dataset = SignLanguageDataset(test)\n",
    "\n",
    "train_loader = data.DataLoader(train_dataset, batch_size=100, shuffle=True,\n",
    "                               num_workers=4)\n",
    "test_loader = data.DataLoader(test_dataset, batch_size=100, shuffle=True,\n",
    "                              num_workers=4)"
   ]
  },
  {
   "cell_type": "markdown",
   "metadata": {
    "id": "23Hd0lv6Nfzk"
   },
   "source": []
  },
  {
   "cell_type": "code",
   "execution_count": 10,
   "metadata": {
    "colab": {
     "base_uri": "https://localhost:8080/"
    },
    "executionInfo": {
     "elapsed": 327,
     "status": "ok",
     "timestamp": 1662939996059,
     "user": {
      "displayName": "Ashwin Tyagi",
      "userId": "01848559523199568635"
     },
     "user_tz": 420
    },
    "id": "SUbpPsPYNeOX",
    "outputId": "7e72f784-4f7a-41f2-976a-b482b9fe7446"
   },
   "outputs": [],
   "source": [
    "trainiter = iter(train_loader)\n",
    "img, label = next(trainiter)\n"
   ]
  },
  {
   "cell_type": "markdown",
   "metadata": {
    "id": "IwT4wWvIPHl-"
   },
   "source": [
    "#### Define Training and Eval\n",
    "Now that we have defined a simple conv2d nn and init all our training data, we can start work on defining our training and evaluation algorithms"
   ]
  },
  {
   "cell_type": "code",
   "execution_count": 11,
   "metadata": {
    "executionInfo": {
     "elapsed": 160,
     "status": "ok",
     "timestamp": 1662940003382,
     "user": {
      "displayName": "Ashwin Tyagi",
      "userId": "01848559523199568635"
     },
     "user_tz": 420
    },
    "id": "1l9YIEUcOti4"
   },
   "outputs": [],
   "source": [
    "def eval_net(model, crit, test_loader):\n",
    "\n",
    "    #this will switch the net to run on gpu if supported and selected\n",
    "    #if there is no device chosen, default will be cpu\n",
    "    \n",
    "    device = torch.device(\"mps\") if torch.backends.mps.is_available() else torch.device(\"cpu\")\n",
    "\n",
    "    model = model.to(device)\n",
    "\n",
    "    model = model.eval()\n",
    "\n",
    "    running_loss = 0.0\n",
    "    num_correct = 0.0\n",
    "    num_total = 0.0\n",
    "\n",
    "    for batch, labels in test_loader:\n",
    "\n",
    "        batch = batch.to(device)\n",
    "        labels = labels.to(device)\n",
    "\n",
    "        out = model(batch)\n",
    "        pred_labels = out.argmax(dim=1)\n",
    "        num_correct += float((pred_labels == labels).sum())\n",
    "\n",
    "        loss = crit(out, labels)\n",
    "        running_loss += loss.data.cpu()\n",
    "\n",
    "        num_total += labels.shape[0]\n",
    "\n",
    "    mean_loss = running_loss / num_total\n",
    "    accuracy = num_correct / num_total\n",
    "\n",
    "    return mean_loss, accuracy"
   ]
  },
  {
   "cell_type": "code",
   "execution_count": 12,
   "metadata": {
    "executionInfo": {
     "elapsed": 3,
     "status": "ok",
     "timestamp": 1662940003524,
     "user": {
      "displayName": "Ashwin Tyagi",
      "userId": "01848559523199568635"
     },
     "user_tz": 420
    },
    "id": "9sQVlDW4RG4T"
   },
   "outputs": [],
   "source": [
    "def train_model(n_epochs, model, optimizer, crit, train_loader,\n",
    "                test_loader):\n",
    "    \n",
    "    device = torch.device(\"mps\") if torch.backends.mps.is_available() else torch.device(\"cpu\")\n",
    "    model.to(device)\n",
    "    \n",
    "    model = model.train()\n",
    "    \n",
    "    train_loss, train_acc = [], []\n",
    "    test_loss, test_acc = [], []\n",
    "    \n",
    "    for epoch in range(n_epochs):\n",
    "        \n",
    "        t0 = time.perf_counter()\n",
    "        \n",
    "        running_loss = 0.\n",
    "        num_correct = 0.\n",
    "        num_total = 0.\n",
    "        \n",
    "        for batch, labels in train_loader:\n",
    "            batch = batch.to(device)\n",
    "            labels = labels.to(device)\n",
    "\n",
    "            optimizer.zero_grad()\n",
    "            out = model(batch)\n",
    "            \n",
    "            pred_labels = out.argmax(dim=1)\n",
    "            num_correct += float((pred_labels == labels).sum())\n",
    "            num_total += labels.shape[0]\n",
    "            \n",
    "            loss = crit(out, labels)\n",
    "            running_loss += loss\n",
    "            loss.backward()\n",
    "            optimizer.step()\n",
    "        \n",
    "        epoch_loss = running_loss / num_total\n",
    "        epoch_acc = num_correct / num_total\n",
    "        \n",
    "        train_loss.append(epoch_loss.data.cpu())\n",
    "        train_acc.append(epoch_acc)\n",
    "        \n",
    "        t_loss, t_acc = eval_net(model, crit, test_loader)\n",
    "        \n",
    "        test_loss.append(t_loss.data.cpu())\n",
    "        test_acc.append(t_acc)\n",
    "        \n",
    "        t1 = time.perf_counter()\n",
    "        \n",
    "        delta_t = t1 - t0\n",
    "        print(f\"EPOCH {epoch+1} ({round(delta_t, 4)} s.): train loss - {epoch_loss}, train accuracy - {epoch_acc}; test loss - {t_loss}, test accuracy - {t_acc}\")\n",
    "    \n",
    "    \n",
    "    return model, train_loss, train_acc, test_loss, test_acc        \n",
    "        "
   ]
  },
  {
   "cell_type": "markdown",
   "metadata": {
    "id": "sc7bto2MsW0x"
   },
   "source": [
    "#### Run the train_model func"
   ]
  },
  {
   "cell_type": "code",
   "execution_count": 14,
   "metadata": {
    "colab": {
     "base_uri": "https://localhost:8080/"
    },
    "executionInfo": {
     "elapsed": 243817,
     "status": "ok",
     "timestamp": 1662940249329,
     "user": {
      "displayName": "Ashwin Tyagi",
      "userId": "01848559523199568635"
     },
     "user_tz": 420
    },
    "id": "O5wAnatORZUJ",
    "outputId": "901b6913-0535-4370-8d66-b8483257bd86"
   },
   "outputs": [
    {
     "name": "stdout",
     "output_type": "stream",
     "text": [
      "EPOCH 1 (49.0093 s.): train loss - 0.0074007329531013966, train accuracy - 0.7531597158987434; test loss - 0.005771247204393148, test accuracy - 0.8057724484104852\n",
      "EPOCH 2 (50.4057 s.): train loss - 0.0036837479565292597, train accuracy - 0.8858495720269532; test loss - 0.005037173628807068, test accuracy - 0.835750139431121\n",
      "EPOCH 3 (49.964 s.): train loss - 0.0027807776350528, train accuracy - 0.9152431251138227; test loss - 0.005000203847885132, test accuracy - 0.8474623535973229\n",
      "EPOCH 4 (49.4714 s.): train loss - 0.002326077315956354, train accuracy - 0.928719723183391; test loss - 0.005418030545115471, test accuracy - 0.8372838817624094\n",
      "EPOCH 5 (49.587 s.): train loss - 0.0020547923631966114, train accuracy - 0.9349480968858132; test loss - 0.004550969693809748, test accuracy - 0.862520914668154\n",
      "EPOCH 6 (49.7957 s.): train loss - 0.0017841082299128175, train accuracy - 0.9437625204880714; test loss - 0.004494608845561743, test accuracy - 0.8568042387060792\n",
      "EPOCH 7 (49.4182 s.): train loss - 0.0017123285215348005, train accuracy - 0.9459843380076489; test loss - 0.0048231384716928005, test accuracy - 0.8580591187953152\n",
      "EPOCH 8 (49.524 s.): train loss - 0.0015334010822698474, train accuracy - 0.9509743216171918; test loss - 0.004521544091403484, test accuracy - 0.8577802565532627\n",
      "EPOCH 9 (49.3026 s.): train loss - 0.0014717563753947616, train accuracy - 0.953523948279002; test loss - 0.004795339424163103, test accuracy - 0.8636363636363636\n",
      "EPOCH 10 (49.384 s.): train loss - 0.0013762714806944132, train accuracy - 0.9568020397013295; test loss - 0.004531818442046642, test accuracy - 0.8627997769102064\n",
      "EPOCH 11 (49.1282 s.): train loss - 0.0012876085238531232, train accuracy - 0.9580040065561829; test loss - 0.004944270011037588, test accuracy - 0.856664807585053\n",
      "EPOCH 12 (49.1894 s.): train loss - 0.0012415859382599592, train accuracy - 0.95978874521945; test loss - 0.005449287127703428, test accuracy - 0.8487172336865588\n",
      "EPOCH 13 (48.8927 s.): train loss - 0.0012310317251831293, train accuracy - 0.9611364050264068; test loss - 0.004059509839862585, test accuracy - 0.8915225878416062\n",
      "EPOCH 14 (48.9136 s.): train loss - 0.001052320934832096, train accuracy - 0.9665270442542342; test loss - 0.004369082394987345, test accuracy - 0.8771611823759063\n",
      "EPOCH 15 (49.1441 s.): train loss - 0.0010214261710643768, train accuracy - 0.9663813513021308; test loss - 0.00463200593367219, test accuracy - 0.8817624093697713\n"
     ]
    }
   ],
   "source": [
    "net, train_loss, train_acc, test_loss, test_acc = train_model(10, net, optimizer, crit,\n",
    "                                                     train_loader, test_loader)\n"
   ]
  },
  {
   "cell_type": "code",
   "execution_count": 19,
   "metadata": {
    "colab": {
     "base_uri": "https://localhost:8080/",
     "height": 408
    },
    "executionInfo": {
     "elapsed": 625,
     "status": "ok",
     "timestamp": 1662940315719,
     "user": {
      "displayName": "Ashwin Tyagi",
      "userId": "01848559523199568635"
     },
     "user_tz": 420
    },
    "id": "IoMH1mfg8Ajw",
    "outputId": "3bf41fbb-db8f-4b15-9fba-559f5dc04194"
   },
   "outputs": [
    {
     "name": "stdout",
     "output_type": "stream",
     "text": [
      "Accuracy: 0.966, 0.882\n"
     ]
    },
    {
     "data": {
      "image/png": "[encoded data removed]",
      "text/plain": [
       "<Figure size 1200x600 with 2 Axes>"
      ]
     },
     "metadata": {},
     "output_type": "display_data"
    }
   ],
   "source": [
    "fig, (ax1, ax2) = plt.subplots(1, 2, figsize=(12,6))\n",
    "ax1.plot(train_loss)\n",
    "ax1.plot(test_loss)\n",
    "ax1.legend(['train', 'test'])\n",
    "ax1.set_title('Loss')\n",
    "ax2.plot(train_acc)\n",
    "ax2.plot(test_acc)\n",
    "ax2.legend(['train', 'test'])\n",
    "ax2.set_title('Accuracy')\n",
    "\n",
    "print(\"Accuracy: %.3f, %.3f\" % (train_acc[14], test_acc[14]))"
   ]
  },
  {
   "cell_type": "markdown",
   "metadata": {
    "id": "1ZdW5PLM9_4q"
   },
   "source": [
    "#### Save Model"
   ]
  },
  {
   "cell_type": "code",
   "execution_count": 20,
   "metadata": {
    "executionInfo": {
     "elapsed": 163,
     "status": "ok",
     "timestamp": 1662940329893,
     "user": {
      "displayName": "Ashwin Tyagi",
      "userId": "01848559523199568635"
     },
     "user_tz": 420
    },
    "id": "OVmZUKXi-F4G"
   },
   "outputs": [],
   "source": [
    "state = net.state_dict()\n",
    "\n",
    "torch.save(state, './sign_lang_net.pth')"
   ]
  },
  {
   "cell_type": "markdown",
   "metadata": {
    "id": "IIThSEj7-ZWc"
   },
   "source": [
    "#### Check Model\n",
    "\n"
   ]
  },
  {
   "cell_type": "code",
   "execution_count": 21,
   "metadata": {
    "executionInfo": {
     "elapsed": 306,
     "status": "ok",
     "timestamp": 1662940395644,
     "user": {
      "displayName": "Ashwin Tyagi",
      "userId": "01848559523199568635"
     },
     "user_tz": 420
    },
    "id": "kXV5je5I-Zzy"
   },
   "outputs": [
    {
     "data": {
      "text/plain": [
       "Net(\n",
       "  (layer1): Sequential(\n",
       "    (0): Conv2d(1, 8, kernel_size=(3, 3), stride=(1, 1))\n",
       "    (1): BatchNorm2d(8, eps=1e-05, momentum=0.1, affine=True, track_running_stats=True)\n",
       "    (2): AvgPool2d(kernel_size=2, stride=2, padding=0)\n",
       "    (3): ReLU()\n",
       "  )\n",
       "  (layer2): Sequential(\n",
       "    (0): Conv2d(8, 16, kernel_size=(3, 3), stride=(1, 1))\n",
       "    (1): BatchNorm2d(16, eps=1e-05, momentum=0.1, affine=True, track_running_stats=True)\n",
       "    (2): AvgPool2d(kernel_size=2, stride=2, padding=0)\n",
       "    (3): ReLU()\n",
       "  )\n",
       "  (fc1): Linear(in_features=400, out_features=100, bias=True)\n",
       "  (fc2): Linear(in_features=100, out_features=64, bias=True)\n",
       "  (leak): LeakyReLU(negative_slope=0.01)\n",
       "  (drop): Dropout(p=0.3, inplace=False)\n",
       "  (fc3): Linear(in_features=64, out_features=25, bias=True)\n",
       ")"
      ]
     },
     "execution_count": 21,
     "metadata": {},
     "output_type": "execute_result"
    }
   ],
   "source": [
    "testiter = iter(test_loader)\n",
    "img, label = next(testiter)\n",
    "net.cpu()"
   ]
  },
  {
   "cell_type": "code",
   "execution_count": 22,
   "metadata": {
    "colab": {
     "base_uri": "https://localhost:8080/",
     "height": 392
    },
    "executionInfo": {
     "elapsed": 193,
     "status": "ok",
     "timestamp": 1662940396371,
     "user": {
      "displayName": "Ashwin Tyagi",
      "userId": "01848559523199568635"
     },
     "user_tz": 420
    },
    "id": "IVcHB5CfAiHh",
    "outputId": "df94c234-d1ed-46b7-d06f-aa0eda8ea015"
   },
   "outputs": [
    {
     "name": "stdin",
     "output_type": "stream",
     "text": [
      "Index: (0-99) 56\n"
     ]
    },
    {
     "name": "stdout",
     "output_type": "stream",
     "text": [
      "U: 99.32%\n",
      "R: 0.66%\n",
      "V: 0.02%\n",
      "D: 0.00%\n",
      "B: 0.00%\n",
      "Correct: U\n",
      "tensor(20)\n"
     ]
    },
    {
     "data": {
      "image/png": "[encoded data removed]",
      "text/plain": [
       "<Figure size 640x480 with 1 Axes>"
      ]
     },
     "metadata": {},
     "output_type": "display_data"
    }
   ],
   "source": [
    "index = int(input(\"Index: (0-99)\"))\n",
    "image = img[index]\n",
    "lab = label[index]\n",
    "\n",
    "batch = train_transform(image).unsqueeze(0)\n",
    "# if you want to run a single img through the nn do this\n",
    "pred = net(batch).squeeze(0).softmax(0)\n",
    "class_id = pred.argmax().item()\n",
    "#class_id will give the most likely index.\n",
    "#Ex: if class_id is 7 -> that means the expected value would be labels[7] or H\n",
    "\n",
    "_, indicies = torch.sort(pred, descending=True)\n",
    "    \n",
    "for ind in indicies[:5]:\n",
    "    i = ind.item()\n",
    "    print(f\"{labels[i]}: {100.*pred[i]:.2f}%\")\n",
    "\n",
    "print(f\"Correct: {labels[lab]}\")\n",
    "\n",
    "show_img(batch, lab)"
   ]
  }
 ],
 "metadata": {
  "accelerator": "GPU",
  "colab": {
   "collapsed_sections": [
    "IwT4wWvIPHl-",
    "1ZdW5PLM9_4q"
   ],
   "provenance": []
  },
  "gpuClass": "standard",
  "kernelspec": {
   "display_name": "python3.11.6",
   "language": "python",
   "name": "python3.11.6"
  },
  "language_info": {
   "codemirror_mode": {
    "name": "ipython",
    "version": 3
   },
   "file_extension": ".py",
   "mimetype": "text/x-python",
   "name": "python",
   "nbconvert_exporter": "python",
   "pygments_lexer": "ipython3",
   "version": "3.11.7"
  }
 },
 "nbformat": 4,
 "nbformat_minor": 4
}
