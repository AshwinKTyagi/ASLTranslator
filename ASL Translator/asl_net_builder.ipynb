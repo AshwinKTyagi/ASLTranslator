{
 "cells": [
  {
   "cell_type": "markdown",
   "metadata": {
    "id": "F9aPxMR8_ZTC"
   },
   "source": [
    "# Neural Net Generator"
   ]
  },
  {
   "cell_type": "code",
   "execution_count": 1,
   "metadata": {
    "executionInfo": {
     "elapsed": 5313,
     "status": "ok",
     "timestamp": 1662939811392,
     "user": {
      "displayName": "Ashwin Tyagi",
      "userId": "01848559523199568635"
     },
     "user_tz": 420
    },
    "id": "qI9bi4ktEhon"
   },
   "outputs": [],
   "source": [
    "import numpy as np \n",
    "import pandas as pd # data processing\n",
    "import os, sys\n",
    "import time\n",
    "import matplotlib.pyplot as plt\n",
    "\n",
    "import tensorflow as tf\n",
    "import torch\n",
    "import torch.nn as nn\n",
    "import torch.optim as optim\n",
    "from torch.nn import functional as F\n",
    "import torch.utils.data as data\n",
    "\n",
    "import torchvision\n",
    "import torchvision.transforms as transforms\n",
    "import torchvision.models as models\n",
    "\n",
    "from asl_dataset import SignLanguageDataset\n",
    "from asl_net import Net"
   ]
  },
  {
   "cell_type": "markdown",
   "metadata": {
    "id": "tUgYHWi5Rg4W"
   },
   "source": [
    "#### Presetup before generating and training NN"
   ]
  },
  {
   "cell_type": "code",
   "execution_count": 2,
   "metadata": {
    "colab": {
     "base_uri": "https://localhost:8080/"
    },
    "executionInfo": {
     "elapsed": 13,
     "status": "ok",
     "timestamp": 1662939829071,
     "user": {
      "displayName": "Ashwin Tyagi",
      "userId": "01848559523199568635"
     },
     "user_tz": 420
    },
    "id": "ISg44OxXRhUK",
    "outputId": "5c4bc3fb-d367-438b-8dc1-8bb95f181da6"
   },
   "outputs": [
    {
     "name": "stdout",
     "output_type": "stream",
     "text": [
      "mps\n"
     ]
    }
   ],
   "source": [
    "#set device so that the model and data will run on the correct graphics device\n",
    "dev = torch.device(\"mps\") if torch.backends.mps.is_available() else torch.device(\"cpu\")\n",
    "print(dev)"
   ]
  },
  {
   "cell_type": "code",
   "execution_count": 3,
   "metadata": {
    "colab": {
     "base_uri": "https://localhost:8080/"
    },
    "executionInfo": {
     "elapsed": 4335,
     "status": "ok",
     "timestamp": 1662939833399,
     "user": {
      "displayName": "Ashwin Tyagi",
      "userId": "01848559523199568635"
     },
     "user_tz": 420
    },
    "id": "gVmCUni9Fe8V",
    "outputId": "c1b70f54-3576-42a8-b17c-95f4c3515daa"
   },
   "outputs": [
    {
     "name": "stdout",
     "output_type": "stream",
     "text": [
      "Net(\n",
      "  (layer1): Sequential(\n",
      "    (0): Conv2d(1, 8, kernel_size=(3, 3), stride=(1, 1))\n",
      "    (1): BatchNorm2d(8, eps=1e-05, momentum=0.1, affine=True, track_running_stats=True)\n",
      "    (2): AvgPool2d(kernel_size=2, stride=2, padding=0)\n",
      "    (3): ReLU()\n",
      "  )\n",
      "  (layer2): Sequential(\n",
      "    (0): Conv2d(8, 16, kernel_size=(3, 3), stride=(1, 1))\n",
      "    (1): BatchNorm2d(16, eps=1e-05, momentum=0.1, affine=True, track_running_stats=True)\n",
      "    (2): AvgPool2d(kernel_size=2, stride=2, padding=0)\n",
      "    (3): ReLU()\n",
      "  )\n",
      "  (fc1): Linear(in_features=400, out_features=100, bias=True)\n",
      "  (fc2): Linear(in_features=100, out_features=64, bias=True)\n",
      "  (leak): LeakyReLU(negative_slope=0.01)\n",
      "  (drop): Dropout(p=0.3, inplace=False)\n",
      "  (fc3): Linear(in_features=64, out_features=24, bias=True)\n",
      ")\n"
     ]
    }
   ],
   "source": [
    "net = Net()\n",
    "#switch the nn to run on gpu if available\n",
    "net = net.to(dev)\n",
    "print(net)"
   ]
  },
  {
   "cell_type": "markdown",
   "metadata": {
    "id": "REF9riJFQeTc"
   },
   "source": [
    "#### Define the Loss Function and Optimizer"
   ]
  },
  {
   "cell_type": "code",
   "execution_count": 4,
   "metadata": {
    "executionInfo": {
     "elapsed": 25,
     "status": "ok",
     "timestamp": 1662939833400,
     "user": {
      "displayName": "Ashwin Tyagi",
      "userId": "01848559523199568635"
     },
     "user_tz": 420
    },
    "id": "ariGAOYLQaxe"
   },
   "outputs": [],
   "source": [
    "crit = nn.CrossEntropyLoss()\n",
    "#feel free to play around with the lr(learning rate) and momentum\n",
    "optimizer = optim.Adam(net.parameters(), lr=0.001)"
   ]
  },
  {
   "cell_type": "markdown",
   "metadata": {
    "id": "YHKmAp5wTW3G"
   },
   "source": [
    "#### Set up Training Data\n",
    "Init and transform data before running it through nn"
   ]
  },
  {
   "cell_type": "code",
   "execution_count": 5,
   "metadata": {
    "colab": {
     "base_uri": "https://localhost:8080/"
    },
    "executionInfo": {
     "elapsed": 537,
     "status": "ok",
     "timestamp": 1662939833915,
     "user": {
      "displayName": "Ashwin Tyagi",
      "userId": "01848559523199568635"
     },
     "user_tz": 420
    },
    "id": "1Eq11XX7TWX0",
    "outputId": "21b2def4-8002-4d5e-f81a-679b21160468"
   },
   "outputs": [
    {
     "name": "stdout",
     "output_type": "stream",
     "text": [
      "../kaggle/input/.DS_Store\n",
      "../kaggle/input/american_sign_language.PNG\n",
      "../kaggle/input/sign_mnist_test.csv\n",
      "../kaggle/input/sign_mnist_train.csv\n",
      "../kaggle/input/amer_sign3.png\n",
      "../kaggle/input/amer_sign2.png\n",
      "../kaggle/input/sign_mnist_train/sign_mnist_train.csv\n",
      "../kaggle/input/sign_mnist_test/sign_mnist_test.csv\n"
     ]
    }
   ],
   "source": [
    "for dirname, _, filenames in os.walk('../kaggle/input/'):\n",
    "    for filename in filenames:\n",
    "        print(os.path.join(dirname, filename))"
   ]
  },
  {
   "cell_type": "code",
   "execution_count": 6,
   "metadata": {
    "executionInfo": {
     "elapsed": 4621,
     "status": "ok",
     "timestamp": 1662939838530,
     "user": {
      "displayName": "Ashwin Tyagi",
      "userId": "01848559523199568635"
     },
     "user_tz": 420
    },
    "id": "sG_UvNSpJSFU"
   },
   "outputs": [],
   "source": [
    "train = pd.read_csv('../kaggle/input/sign_mnist_train.csv')\n",
    "test = pd.read_csv('../kaggle/input/sign_mnist_test.csv')\n",
    "#Put in J as a _ to maintain 1to1 matching in nn\n",
    "labels = ['A', 'B', 'C', 'D', 'E', 'F', 'G', 'H', 'I', 'K', 'L', 'M', \n",
    "          'N', 'O', 'P', 'Q', 'R', 'S', 'T', 'U', 'V', 'W', 'X', 'Y']"
   ]
  },
  {
   "cell_type": "markdown",
   "metadata": {
    "id": "NW7m8QfaLlKz"
   },
   "source": [
    "Create Class for Dataset to init and transform datasets\n",
    "I'm setting up the data similar to how Georgy Popov did in his nn on kaggle\n",
    "https://www.kaggle.com/code/wacholder000/simple-convolution-nn-in-pytorch-test-acc-95"
   ]
  },
  {
   "cell_type": "code",
   "execution_count": 7,
   "metadata": {
    "executionInfo": {
     "elapsed": 32,
     "status": "ok",
     "timestamp": 1662939838532,
     "user": {
      "displayName": "Ashwin Tyagi",
      "userId": "01848559523199568635"
     },
     "user_tz": 420
    },
    "id": "LoDL8XmHJqsH"
   },
   "outputs": [],
   "source": [
    "#method for showing images using mathplt\n",
    "def show_img(img, label):\n",
    "    img = img.squeeze()\n",
    "    img = img*40. + 159.\n",
    "    imgnp = img.detach().numpy()\n",
    "    plt.imshow(img, cmap='gray',interpolation='bicubic')\n",
    "    print(label)"
   ]
  },
  {
   "cell_type": "code",
   "execution_count": 8,
   "metadata": {
    "executionInfo": {
     "elapsed": 133,
     "status": "ok",
     "timestamp": 1662939992647,
     "user": {
      "displayName": "Ashwin Tyagi",
      "userId": "01848559523199568635"
     },
     "user_tz": 420
    },
    "id": "kGL2Z1kHJq1N"
   },
   "outputs": [],
   "source": [
    "train_transform = transforms.Compose([\n",
    "    #randomly flip/rotate images to better train nn\n",
    "    transforms.RandomHorizontalFlip(p=0.5),\n",
    "    transforms.RandomApply([transforms.RandomRotation(degrees=(-45,45))],\n",
    "                           p = 0.2)\n",
    "])"
   ]
  },
  {
   "cell_type": "code",
   "execution_count": 9,
   "metadata": {
    "executionInfo": {
     "elapsed": 163,
     "status": "ok",
     "timestamp": 1662939993860,
     "user": {
      "displayName": "Ashwin Tyagi",
      "userId": "01848559523199568635"
     },
     "user_tz": 420
    },
    "id": "Mt1qrrTULYEF"
   },
   "outputs": [],
   "source": [
    "train_dataset = SignLanguageDataset(train, transform=train_transform)\n",
    "test_dataset = SignLanguageDataset(test)\n",
    "\n",
    "train_loader = data.DataLoader(train_dataset, batch_size=100, shuffle=True,\n",
    "                               num_workers=4)\n",
    "test_loader = data.DataLoader(test_dataset, batch_size=100, shuffle=True,\n",
    "                              num_workers=4)"
   ]
  },
  {
   "cell_type": "markdown",
   "metadata": {
    "id": "23Hd0lv6Nfzk"
   },
   "source": []
  },
  {
   "cell_type": "code",
   "execution_count": 10,
   "metadata": {
    "colab": {
     "base_uri": "https://localhost:8080/"
    },
    "executionInfo": {
     "elapsed": 327,
     "status": "ok",
     "timestamp": 1662939996059,
     "user": {
      "displayName": "Ashwin Tyagi",
      "userId": "01848559523199568635"
     },
     "user_tz": 420
    },
    "id": "SUbpPsPYNeOX",
    "outputId": "7e72f784-4f7a-41f2-976a-b482b9fe7446"
   },
   "outputs": [],
   "source": [
    "trainiter = iter(train_loader)\n",
    "img, label = next(trainiter)\n"
   ]
  },
  {
   "cell_type": "markdown",
   "metadata": {
    "id": "IwT4wWvIPHl-"
   },
   "source": [
    "#### Define Training and Eval\n",
    "Now that we have defined a simple conv2d nn and init all our training data, we can start work on defining our training and evaluation algorithms"
   ]
  },
  {
   "cell_type": "code",
   "execution_count": 11,
   "metadata": {
    "executionInfo": {
     "elapsed": 160,
     "status": "ok",
     "timestamp": 1662940003382,
     "user": {
      "displayName": "Ashwin Tyagi",
      "userId": "01848559523199568635"
     },
     "user_tz": 420
    },
    "id": "1l9YIEUcOti4"
   },
   "outputs": [],
   "source": [
    "def eval_net(model, crit, test_loader):\n",
    "\n",
    "    #this will switch the net to run on gpu if supported and selected\n",
    "    #if there is no device chosen, default will be cpu\n",
    "    \n",
    "    device = torch.device(\"mps\") if torch.backends.mps.is_available() else torch.device(\"cpu\")\n",
    "\n",
    "    model = model.to(device)\n",
    "\n",
    "    model = model.eval()\n",
    "\n",
    "    running_loss = 0.0\n",
    "    num_correct = 0.0\n",
    "    num_total = 0.0\n",
    "\n",
    "    for batch, labels in test_loader:\n",
    "\n",
    "        batch = batch.to(device)\n",
    "        labels = labels.to(device)\n",
    "\n",
    "        out = model(batch)\n",
    "        pred_labels = out.argmax(dim=1)\n",
    "        num_correct += float((pred_labels == labels).sum())\n",
    "\n",
    "        loss = crit(out, labels)\n",
    "        running_loss += loss.data.cpu()\n",
    "\n",
    "        num_total += labels.shape[0]\n",
    "\n",
    "    mean_loss = running_loss / num_total\n",
    "    accuracy = num_correct / num_total\n",
    "\n",
    "    return mean_loss, accuracy"
   ]
  },
  {
   "cell_type": "code",
   "execution_count": 12,
   "metadata": {
    "executionInfo": {
     "elapsed": 3,
     "status": "ok",
     "timestamp": 1662940003524,
     "user": {
      "displayName": "Ashwin Tyagi",
      "userId": "01848559523199568635"
     },
     "user_tz": 420
    },
    "id": "9sQVlDW4RG4T"
   },
   "outputs": [],
   "source": [
    "def train_model(n_epochs, model, optimizer, crit, train_loader,\n",
    "                test_loader):\n",
    "    \n",
    "    device = torch.device(\"mps\") if torch.backends.mps.is_available() else torch.device(\"cpu\")\n",
    "    model.to(device)\n",
    "    \n",
    "    model = model.train()\n",
    "    \n",
    "    train_loss, train_acc = [], []\n",
    "    test_loss, test_acc = [], []\n",
    "    \n",
    "    for epoch in range(n_epochs):\n",
    "        \n",
    "        t0 = time.perf_counter()\n",
    "        \n",
    "        running_loss = 0.\n",
    "        num_correct = 0.\n",
    "        num_total = 0.\n",
    "        \n",
    "        for batch, labels in train_loader:\n",
    "            batch = batch.to(device)\n",
    "            labels = labels.to(device)\n",
    "\n",
    "            optimizer.zero_grad()\n",
    "            out = model(batch)\n",
    "            \n",
    "            pred_labels = out.argmax(dim=1)\n",
    "            num_correct += float((pred_labels == labels).sum())\n",
    "            num_total += labels.shape[0]\n",
    "            \n",
    "            loss = crit(out, labels)\n",
    "            running_loss += loss\n",
    "            loss.backward()\n",
    "            optimizer.step()\n",
    "        \n",
    "        epoch_loss = running_loss / num_total\n",
    "        epoch_acc = num_correct / num_total\n",
    "        \n",
    "        train_loss.append(epoch_loss.data.cpu())\n",
    "        train_acc.append(epoch_acc)\n",
    "        \n",
    "        t_loss, t_acc = eval_net(model, crit, test_loader)\n",
    "        \n",
    "        test_loss.append(t_loss.data.cpu())\n",
    "        test_acc.append(t_acc)\n",
    "        \n",
    "        t1 = time.perf_counter()\n",
    "        \n",
    "        delta_t = t1 - t0\n",
    "        print(f\"EPOCH {epoch+1} ({round(delta_t, 4)} s.): train loss - {epoch_loss}, train accuracy - {epoch_acc}; test loss - {t_loss}, test accuracy - {t_acc}\")\n",
    "    \n",
    "    \n",
    "    return model, train_loss, train_acc, test_loss, test_acc        \n",
    "        "
   ]
  },
  {
   "cell_type": "markdown",
   "metadata": {
    "id": "sc7bto2MsW0x"
   },
   "source": [
    "#### Run the train_model func"
   ]
  },
  {
   "cell_type": "code",
   "execution_count": 13,
   "metadata": {
    "colab": {
     "base_uri": "https://localhost:8080/"
    },
    "executionInfo": {
     "elapsed": 243817,
     "status": "ok",
     "timestamp": 1662940249329,
     "user": {
      "displayName": "Ashwin Tyagi",
      "userId": "01848559523199568635"
     },
     "user_tz": 420
    },
    "id": "O5wAnatORZUJ",
    "outputId": "901b6913-0535-4370-8d66-b8483257bd86"
   },
   "outputs": [
    {
     "name": "stdout",
     "output_type": "stream",
     "text": [
      "EPOCH 1 (49.6846 s.): train loss - 0.018479110673069954, train accuracy - 0.36678200692041524; test loss - 0.011406339704990387, test accuracy - 0.5833798103736754\n",
      "EPOCH 2 (49.7008 s.): train loss - 0.007371007930487394, train accuracy - 0.7159715898743398; test loss - 0.007180938497185707, test accuracy - 0.6929726715002789\n",
      "EPOCH 3 (49.8573 s.): train loss - 0.004481474403291941, train accuracy - 0.813330905117465; test loss - 0.005788780283182859, test accuracy - 0.7724484104852203\n",
      "EPOCH 4 (49.4732 s.): train loss - 0.0033467940520495176, train accuracy - 0.8528136951374977; test loss - 0.006955536548048258, test accuracy - 0.7583658672615727\n",
      "EPOCH 5 (49.753 s.): train loss - 0.0025822476018220186, train accuracy - 0.875978874521945; test loss - 0.005158399231731892, test accuracy - 0.8113496932515337\n",
      "EPOCH 6 (49.9648 s.): train loss - 0.0022821915335953236, train accuracy - 0.8858495720269532; test loss - 0.006034360267221928, test accuracy - 0.7981037367540436\n",
      "EPOCH 7 (49.8812 s.): train loss - 0.002076743869110942, train accuracy - 0.8925514478237115; test loss - 0.005328540690243244, test accuracy - 0.8151143335192415\n",
      "EPOCH 8 (49.8316 s.): train loss - 0.0018096088897436857, train accuracy - 0.9006009834274267; test loss - 0.004686939995735884, test accuracy - 0.8308700501952035\n",
      "EPOCH 9 (49.7284 s.): train loss - 0.001617560163140297, train accuracy - 0.9068657803678747; test loss - 0.005216514691710472, test accuracy - 0.819994422755159\n",
      "EPOCH 10 (49.2506 s.): train loss - 0.0015676129842177033, train accuracy - 0.9085048260790384; test loss - 0.00492306612432003, test accuracy - 0.8445343000557725\n"
     ]
    }
   ],
   "source": [
    "net, train_loss, train_acc, test_loss, test_acc = train_model(10, net, optimizer, crit,\n",
    "                                                     train_loader, test_loader)\n"
   ]
  },
  {
   "cell_type": "code",
   "execution_count": 14,
   "metadata": {
    "colab": {
     "base_uri": "https://localhost:8080/",
     "height": 408
    },
    "executionInfo": {
     "elapsed": 625,
     "status": "ok",
     "timestamp": 1662940315719,
     "user": {
      "displayName": "Ashwin Tyagi",
      "userId": "01848559523199568635"
     },
     "user_tz": 420
    },
    "id": "IoMH1mfg8Ajw",
    "outputId": "3bf41fbb-db8f-4b15-9fba-559f5dc04194"
   },
   "outputs": [
    {
     "name": "stdout",
     "output_type": "stream",
     "text": [
      "Accuracy: 0.909, 0.845\n"
     ]
    },
    {
     "data": {
      "image/png": "[encoded data removed]",
      "text/plain": [
       "<Figure size 1200x600 with 2 Axes>"
      ]
     },
     "metadata": {},
     "output_type": "display_data"
    }
   ],
   "source": [
    "fig, (ax1, ax2) = plt.subplots(1, 2, figsize=(12,6))\n",
    "ax1.plot(train_loss)\n",
    "ax1.plot(test_loss)\n",
    "ax1.legend(['train', 'test'])\n",
    "ax1.set_title('Loss')\n",
    "ax2.plot(train_acc)\n",
    "ax2.plot(test_acc)\n",
    "ax2.legend(['train', 'test'])\n",
    "ax2.set_title('Accuracy')\n",
    "\n",
    "print(\"Accuracy: %.3f, %.3f\" % (train_acc[9], test_acc[9]))"
   ]
  },
  {
   "cell_type": "markdown",
   "metadata": {
    "id": "1ZdW5PLM9_4q"
   },
   "source": [
    "#### Save Model"
   ]
  },
  {
   "cell_type": "code",
   "execution_count": 15,
   "metadata": {
    "executionInfo": {
     "elapsed": 163,
     "status": "ok",
     "timestamp": 1662940329893,
     "user": {
      "displayName": "Ashwin Tyagi",
      "userId": "01848559523199568635"
     },
     "user_tz": 420
    },
    "id": "OVmZUKXi-F4G"
   },
   "outputs": [],
   "source": [
    "state = net.state_dict()\n",
    "\n",
    "torch.save(state, './sign_lang_net.pth')"
   ]
  },
  {
   "cell_type": "markdown",
   "metadata": {
    "id": "IIThSEj7-ZWc"
   },
   "source": [
    "#### Check Model\n",
    "\n"
   ]
  },
  {
   "cell_type": "code",
   "execution_count": 16,
   "metadata": {
    "executionInfo": {
     "elapsed": 306,
     "status": "ok",
     "timestamp": 1662940395644,
     "user": {
      "displayName": "Ashwin Tyagi",
      "userId": "01848559523199568635"
     },
     "user_tz": 420
    },
    "id": "kXV5je5I-Zzy"
   },
   "outputs": [
    {
     "data": {
      "text/plain": [
       "Net(\n",
       "  (layer1): Sequential(\n",
       "    (0): Conv2d(1, 8, kernel_size=(3, 3), stride=(1, 1))\n",
       "    (1): BatchNorm2d(8, eps=1e-05, momentum=0.1, affine=True, track_running_stats=True)\n",
       "    (2): AvgPool2d(kernel_size=2, stride=2, padding=0)\n",
       "    (3): ReLU()\n",
       "  )\n",
       "  (layer2): Sequential(\n",
       "    (0): Conv2d(8, 16, kernel_size=(3, 3), stride=(1, 1))\n",
       "    (1): BatchNorm2d(16, eps=1e-05, momentum=0.1, affine=True, track_running_stats=True)\n",
       "    (2): AvgPool2d(kernel_size=2, stride=2, padding=0)\n",
       "    (3): ReLU()\n",
       "  )\n",
       "  (fc1): Linear(in_features=400, out_features=100, bias=True)\n",
       "  (fc2): Linear(in_features=100, out_features=64, bias=True)\n",
       "  (leak): LeakyReLU(negative_slope=0.01)\n",
       "  (drop): Dropout(p=0.3, inplace=False)\n",
       "  (fc3): Linear(in_features=64, out_features=24, bias=True)\n",
       ")"
      ]
     },
     "execution_count": 16,
     "metadata": {},
     "output_type": "execute_result"
    }
   ],
   "source": [
    "testiter = iter(test_loader)\n",
    "img, label = next(testiter)\n",
    "net.cpu()"
   ]
  },
  {
   "cell_type": "code",
   "execution_count": 20,
   "metadata": {
    "colab": {
     "base_uri": "https://localhost:8080/",
     "height": 392
    },
    "executionInfo": {
     "elapsed": 193,
     "status": "ok",
     "timestamp": 1662940396371,
     "user": {
      "displayName": "Ashwin Tyagi",
      "userId": "01848559523199568635"
     },
     "user_tz": 420
    },
    "id": "IVcHB5CfAiHh",
    "outputId": "df94c234-d1ed-46b7-d06f-aa0eda8ea015"
   },
   "outputs": [
    {
     "name": "stdin",
     "output_type": "stream",
     "text": [
      "Index: (0-99) 15\n"
     ]
    },
    {
     "name": "stdout",
     "output_type": "stream",
     "text": [
      "torch.Size([1, 1, 28, 28])\n",
      "G: 95.09%\n",
      "U: 4.90%\n",
      "M: 0.00%\n",
      "H: 0.00%\n",
      "R: 0.00%\n",
      "tensor([[[203., 203., 204., 206., 206., 207., 208., 207., 208., 208., 210.,\n",
      "          210., 208., 208., 206., 205., 206., 206., 206., 204., 204., 203.,\n",
      "          203., 200., 198., 200., 197., 196.],\n",
      "         [203., 205., 206., 207., 208., 209., 210., 210., 210., 211., 211.,\n",
      "          211., 211., 211., 208., 206., 207., 207., 206., 206., 204., 204.,\n",
      "          205., 204., 200., 200., 201., 200.],\n",
      "         [205., 208., 209., 210., 210., 211., 212., 211., 212., 211., 211.,\n",
      "          211., 211., 211., 209., 208., 209., 207., 207., 207., 206., 206.,\n",
      "          205., 204., 203., 202., 201., 200.],\n",
      "         [206., 209., 211., 210., 211., 213., 211., 212., 214., 212., 213.,\n",
      "          213., 211., 211., 211., 210., 211., 209., 208., 208., 206., 207.,\n",
      "          206., 206., 205., 201., 202., 200.],\n",
      "         [208., 210., 212., 211., 213., 215., 215., 216., 216., 216., 214.,\n",
      "          215., 213., 213., 212., 212., 210., 211., 211., 210., 210., 209.,\n",
      "          207., 199., 198., 210., 201., 200.],\n",
      "         [209., 211., 212., 212., 214., 215., 216., 216., 217., 217., 214.,\n",
      "          214., 215., 215., 214., 213., 215., 215., 212., 208., 204., 194.,\n",
      "          191., 166., 206., 239., 183., 191.],\n",
      "         [211., 212., 213., 215., 218., 217., 217., 217., 217., 218., 219.,\n",
      "          219., 217., 215., 211., 207., 197., 188., 191., 198., 192., 182.,\n",
      "          184., 167., 186., 202., 154., 192.],\n",
      "         [213., 214., 215., 217., 220., 221., 220., 219., 218., 218., 213.,\n",
      "          211., 211., 205., 189., 179., 154., 163., 172., 192., 180., 166.,\n",
      "          143., 128., 124., 143., 183., 208.],\n",
      "         [214., 216., 217., 220., 220., 223., 223., 221., 220., 213., 181.,\n",
      "          178., 164., 174., 191., 180., 169., 140., 150., 147., 126., 110.,\n",
      "          113., 138., 167., 198., 210., 205.],\n",
      "         [216., 218., 219., 221., 221., 224., 224., 220., 215., 204., 189.,\n",
      "          190., 154., 104., 136., 135., 118.,  95., 106., 114., 144., 169.,\n",
      "          202., 217., 216., 212., 207., 207.],\n",
      "         [218., 220., 221., 225., 225., 224., 220., 199., 203., 206., 208.,\n",
      "          194., 138.,  88.,  71.,  69.,  74., 107., 159., 207., 221., 222.,\n",
      "          215., 212., 213., 211., 210., 209.],\n",
      "         [222., 223., 224., 226., 222., 215., 209., 200., 193., 199., 206.,\n",
      "          176., 117.,  85.,  74.,  80., 169., 207., 226., 223., 219., 217.,\n",
      "          217., 216., 214., 212., 211., 210.],\n",
      "         [223., 223., 222., 219., 214., 208., 203., 197., 185., 194., 193.,\n",
      "          183., 163., 101.,  76.,  78., 202., 232., 217., 222., 221., 221.,\n",
      "          221., 218., 215., 213., 213., 213.],\n",
      "         [223., 221., 220., 215., 209., 199., 197., 194., 188., 190., 195.,\n",
      "          199., 179., 116.,  80.,  74.,  90., 226., 223., 223., 221., 221.,\n",
      "          221., 218., 218., 215., 215., 214.],\n",
      "         [217., 219., 222., 213., 203., 197., 197., 197., 192., 193., 195.,\n",
      "          192., 176., 126.,  78.,  83.,  67., 152., 239., 223., 223., 223.,\n",
      "          221., 220., 219., 218., 217., 216.],\n",
      "         [230., 232., 224., 212., 204., 198., 195., 197., 194., 188., 193.,\n",
      "          194., 190., 156.,  86.,  74.,  79.,  79., 214., 231., 225., 224.,\n",
      "          222., 220., 220., 219., 218., 216.],\n",
      "         [238., 234., 217., 207., 209., 199., 195., 194., 197., 198., 202.,\n",
      "          202., 192., 152.,  93.,  75.,  73.,  67., 210., 233., 225., 226.,\n",
      "          225., 223., 222., 221., 220., 218.],\n",
      "         [232., 222., 212., 213., 207., 198., 194., 193., 193., 184., 182.,\n",
      "          178., 162., 131.,  99.,  82.,  63., 140., 243., 226., 227., 227.,\n",
      "          225., 225., 223., 222., 221., 218.],\n",
      "         [236., 217., 206., 209., 195., 193., 198., 190., 184., 171., 163.,\n",
      "          160., 144., 121., 105.,  94.,  63., 137., 246., 228., 230., 227.,\n",
      "          227., 226., 225., 226., 223., 221.],\n",
      "         [238., 228., 203., 189., 189., 195., 199., 194., 182., 171., 161.,\n",
      "          161., 146., 113., 104., 105.,  84.,  72., 219., 237., 231., 229.,\n",
      "          228., 226., 225., 226., 224., 221.],\n",
      "         [220., 222., 193., 174., 178., 189., 189., 186., 173., 158., 139.,\n",
      "          134., 112.,  96.,  98., 112.,  87.,  71., 220., 238., 233., 231.,\n",
      "          228., 227., 226., 226., 225., 223.],\n",
      "         [ 97., 158., 165., 152., 163., 175., 174., 163., 146., 131., 117.,\n",
      "          103.,  63.,  77., 100., 106.,  78., 169., 243., 234., 234., 233.,\n",
      "          230., 229., 227., 228., 227., 225.],\n",
      "         [ 50.,  62., 109., 128., 141., 156., 149., 132., 111.,  95.,  85.,\n",
      "           78.,  70.,  88., 101., 111., 193., 245., 236., 235., 235., 233.,\n",
      "          232., 230., 228., 228., 227., 226.],\n",
      "         [ 54.,  53.,  49.,  62.,  77., 101., 113., 105., 115., 145., 174.,\n",
      "          140., 117., 122., 165., 222., 245., 237., 237., 235., 235., 235.,\n",
      "          233., 231., 231., 229., 228., 226.],\n",
      "         [ 47.,  50.,  49.,  24.,  20.,  32.,  38.,  47., 220., 253., 250.,\n",
      "          248., 239., 241., 248., 244., 240., 240., 238., 237., 235., 236.,\n",
      "          236., 234., 232., 231., 227., 226.],\n",
      "         [ 44.,  42.,  53.,  42.,  17.,  25.,   6., 107., 254., 241., 242.,\n",
      "          242., 242., 242., 240., 240., 240., 239., 238., 240., 237., 235.,\n",
      "          235., 234., 232., 231., 228., 228.],\n",
      "         [ 40.,  38.,  48.,  47.,  18.,  22.,  14., 205., 254., 240., 245.,\n",
      "          244., 242., 242., 241., 241., 240., 239., 238., 238., 237., 236.,\n",
      "          234., 234., 232., 230., 229., 228.],\n",
      "         [ 37.,  35.,  48.,  49.,  22.,   7.,  86., 255., 241., 244., 244.,\n",
      "          243., 244., 244., 243., 243., 241., 241., 240., 239., 237., 237.,\n",
      "          236., 234., 233., 232., 230., 228.]]])\n",
      "Correct: G\n",
      "tensor(6)\n"
     ]
    },
    {
     "data": {
      "image/png": "[encoded data removed]",
      "text/plain": [
       "<Figure size 640x480 with 1 Axes>"
      ]
     },
     "metadata": {},
     "output_type": "display_data"
    }
   ],
   "source": [
    "index = int(input(\"Index: (0-99)\"))\n",
    "image = img[index]\n",
    "lab = label[index]\n",
    "\n",
    "print(image.unsqueeze(0).shape)\n",
    "batch = train_transform(image).unsqueeze(0)\n",
    "# if you want to run a single img through the nn do this\n",
    "pred = net(image.unsqueeze(0)).squeeze(0).softmax(0)\n",
    "class_id = pred.argmax().item()\n",
    "#class_id will give the most likely index.\n",
    "#Ex: if class_id is 7 -> that means the expected value would be labels[7] or H\n",
    "\n",
    "_, indicies = torch.sort(pred, descending=True)\n",
    "    \n",
    "for ind in indicies[:5]:\n",
    "    i = ind.item()\n",
    "    print(f\"{labels[i]}: {100.*pred[i]:.2f}%\")\n",
    "print(image)\n",
    "print(f\"Correct: {labels[lab]}\")\n",
    "show_img(image, lab)"
   ]
  }
 ],
 "metadata": {
  "accelerator": "GPU",
  "colab": {
   "collapsed_sections": [
    "IwT4wWvIPHl-",
    "1ZdW5PLM9_4q"
   ],
   "provenance": []
  },
  "gpuClass": "standard",
  "kernelspec": {
   "display_name": "python3.11.6",
   "language": "python",
   "name": "python3.11.6"
  },
  "language_info": {
   "codemirror_mode": {
    "name": "ipython",
    "version": 3
   },
   "file_extension": ".py",
   "mimetype": "text/x-python",
   "name": "python",
   "nbconvert_exporter": "python",
   "pygments_lexer": "ipython3",
   "version": "3.11.7"
  }
 },
 "nbformat": 4,
 "nbformat_minor": 4
}
